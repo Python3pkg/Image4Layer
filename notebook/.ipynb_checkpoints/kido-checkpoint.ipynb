{
 "cells": [
  {
   "cell_type": "code",
   "execution_count": 1,
   "metadata": {
    "collapsed": false,
    "deletable": true,
    "editable": true
   },
   "outputs": [
    {
     "name": "stdout",
     "output_type": "stream",
     "text": [
      "IPython console for SymPy 1.0 (Python 3.5.2-64-bit) (ground types: python)\n",
      "\n",
      "These commands were executed:\n",
      ">>> from __future__ import division\n",
      ">>> from sympy import *\n",
      ">>> x, y, z, t = symbols('x y z t')\n",
      ">>> k, m, n = symbols('k m n', integer=True)\n",
      ">>> f, g, h = symbols('f g h', cls=Function)\n",
      ">>> init_printing()\n",
      "\n",
      "Documentation can be found at http://docs.sympy.org/1.0/\n"
     ]
    }
   ],
   "source": [
    "from sympy import *\n",
    "init_session()"
   ]
  },
  {
   "cell_type": "code",
   "execution_count": 43,
   "metadata": {
    "collapsed": true,
    "deletable": true,
    "editable": true
   },
   "outputs": [],
   "source": [
    "r, g, b = symbols(\"r g b\")\n",
    "h, s, v = symbols(\"h s v\")\n",
    "l = symbols(\"l\")\n",
    "f = symbols(\"f\")"
   ]
  },
  {
   "cell_type": "code",
   "execution_count": 3,
   "metadata": {
    "collapsed": true,
    "deletable": true,
    "editable": true
   },
   "outputs": [],
   "source": [
    "lumCellToolbar\n",
    "In [1]:\n",
    "\n",
    "from sympy import *\n",
    "init_session()\n",
    "IPython console for SymPy 1.0 (Python 3.5.2-64-bit) (ground types: python)\n",
    "\n",
    "These commands were executed:\n",
    ">>> from __future__ import division\n",
    ">>> from sympy import *\n",
    ">>> x, y, z, t = symbols('x y z t')\n",
    ">>> k, m, n = symbols('k m n', integer=True)\n",
    ">>> f, g, h = symbols('f g h', cls=Function)\n",
    ">>> init_printing()\n",
    "\n",
    "Documentation can be found at http://docs.sympy.org/1.0/\n",
    "In [8]:\n",
    "\n",
    "f\n",
    "r, g, b = symbols(\"r g b\")\n",
    "h, s, v = symbols(\"h s v\")\n",
    "f = symbols(\"f\")\n",
    "In [3]:\n",
    "\n",
    "luminance = ( 0.298912 * r + 0.586611 * g + 0.114478 * b )\n",
    "luminance = ( 0.298912 * r + 0.586611 * g + 0.114478 * b )\n",
    "In [5]:\n",
    "\n",
    "h_i\n",
    "h_i = h / 6\n",
    "inance = ( 0.298912 * r + 0.586611 * g + 0.114478 * b )"
   ]
  },
  {
   "cell_type": "code",
   "execution_count": 5,
   "metadata": {
    "collapsed": false,
    "deletable": true,
    "editable": true
   },
   "outputs": [
    {
     "data": {
      "image/png": "[encoded data removed]",
      "text/latex": [
       "$$\\frac{h}{6}$$"
      ],
      "text/plain": [
       "h\n",
       "─\n",
       "6"
      ]
     },
     "execution_count": 5,
     "metadata": {},
     "output_type": "execute_result"
    }
   ],
   "source": [
    "h_i = h / 6\n",
    "h_i"
   ]
  },
  {
   "cell_type": "code",
   "execution_count": 44,
   "metadata": {
    "collapsed": false,
    "deletable": true,
    "editable": true
   },
   "outputs": [
    {
     "data": {
      "image/png": "[encoded data removed]",
      "text/latex": [
       "$$v \\left(- s + 1\\right)$$"
      ],
      "text/plain": [
       "v⋅(-s + 1)"
      ]
     },
     "execution_count": 44,
     "metadata": {},
     "output_type": "execute_result"
    }
   ],
   "source": [
    "M = v * (1 - s)\n",
    "M"
   ]
  },
  {
   "cell_type": "code",
   "execution_count": 45,
   "metadata": {
    "collapsed": false
   },
   "outputs": [
    {
     "data": {
      "image/png": "[encoded data removed]",
      "text/latex": [
       "$$v \\left(- f s + 1\\right)$$"
      ],
      "text/plain": [
       "v⋅(-f⋅s + 1)"
      ]
     },
     "execution_count": 45,
     "metadata": {},
     "output_type": "execute_result"
    }
   ],
   "source": [
    "N = v * (1 - s * f)\n",
    "N"
   ]
  },
  {
   "cell_type": "code",
   "execution_count": 46,
   "metadata": {
    "collapsed": false
   },
   "outputs": [
    {
     "data": {
      "image/png": "[encoded data removed]",
      "text/latex": [
       "$$v \\left(- s \\left(- f + 1\\right) + 1\\right)$$"
      ],
      "text/plain": [
       "v⋅(-s⋅(-f + 1) + 1)"
      ]
     },
     "execution_count": 46,
     "metadata": {},
     "output_type": "execute_result"
    }
   ],
   "source": [
    "K = v * (1-s * (1-f))\n",
    "K"
   ]
  },
  {
   "cell_type": "code",
   "execution_count": 70,
   "metadata": {
    "collapsed": true
   },
   "outputs": [],
   "source": [
    "luminance = ( 0.298912 * v + 0.586611 * K + 0.114478 * M ) - l"
   ]
  },
  {
   "cell_type": "code",
   "execution_count": 71,
   "metadata": {
    "collapsed": false
   },
   "outputs": [
    {
     "data": {
      "image/png": "[encoded data removed]",
      "text/latex": [
       "$$- l + 0.114478 v \\left(- s + 1\\right) + 0.586611 v \\left(- s \\left(- f + 1\\right) + 1\\right) + 0.298912 v$$"
      ],
      "text/plain": [
       "-l + 0.114478⋅v⋅(-s + 1) + 0.586611⋅v⋅(-s⋅(-f + 1) + 1) + 0.298912⋅v"
      ]
     },
     "execution_count": 71,
     "metadata": {},
     "output_type": "execute_result"
    }
   ],
   "source": [
    "luminance"
   ]
  },
  {
   "cell_type": "code",
   "execution_count": 72,
   "metadata": {
    "collapsed": false
   },
   "outputs": [
    {
     "data": {
      "image/png": "[encoded data removed]",
      "text/latex": [
       "$$\\left [ \\frac{1000000.0 l}{586611.0 f s - 701089.0 s + 1000001.0}\\right ]$$"
      ],
      "text/plain": [
       "⎡             1000000.0⋅l             ⎤\n",
       "⎢─────────────────────────────────────⎥\n",
       "⎣586611.0⋅f⋅s - 701089.0⋅s + 1000001.0⎦"
      ]
     },
     "execution_count": 72,
     "metadata": {},
     "output_type": "execute_result"
    }
   ],
   "source": [
    "simplify(solve(luminance, [v]))"
   ]
  },
  {
   "cell_type": "code",
   "execution_count": 79,
   "metadata": {
    "collapsed": false
   },
   "outputs": [
    {
     "data": {
      "image/png": "[encoded data removed]",
      "text/latex": [
       "$$\\frac{1000000.0 l - 1000001.0 v}{v \\left(586611.0 f - 701089.0\\right)}$$"
      ],
      "text/plain": [
       "1000000.0⋅l - 1000001.0⋅v\n",
       "─────────────────────────\n",
       "v⋅(586611.0⋅f - 701089.0)"
      ]
     },
     "execution_count": 79,
     "metadata": {},
     "output_type": "execute_result"
    }
   ],
   "source": [
    "_S = solve(luminance, [s])[0]\n",
    "_S"
   ]
  },
  {
   "cell_type": "code",
   "execution_count": 74,
   "metadata": {
    "collapsed": false
   },
   "outputs": [
    {
     "data": {
      "image/png": "[encoded data removed]",
      "text/latex": [
       "$$0.067154054058$$"
      ],
      "text/plain": [
       "0.067154054058"
      ]
     },
     "execution_count": 74,
     "metadata": {},
     "output_type": "execute_result"
    }
   ],
   "source": [
    "0.114478 * 0.586611"
   ]
  },
  {
   "cell_type": "code",
   "execution_count": 75,
   "metadata": {
    "collapsed": true
   },
   "outputs": [],
   "source": [
    "_luminance = ( 0.298912 * v + 0.586611 * K + 0.114478 * M )"
   ]
  },
  {
   "cell_type": "code",
   "execution_count": 77,
   "metadata": {
    "collapsed": false
   },
   "outputs": [
    {
     "data": {
      "image/png": "[encoded data removed]",
      "text/latex": [
       "$$0.33631631372549$$"
      ],
      "text/plain": [
       "0.336316313725490"
      ]
     },
     "execution_count": 77,
     "metadata": {},
     "output_type": "execute_result"
    }
   ],
   "source": [
    "_luminance.subs({v:240/255, K:20/255, M:20/255})"
   ]
  },
  {
   "cell_type": "code",
   "execution_count": null,
   "metadata": {
    "collapsed": true
   },
   "outputs": [],
   "source": []
  }
 ],
 "metadata": {
  "kernelspec": {
   "display_name": "Python 3",
   "language": "python",
   "name": "python3"
  },
  "language_info": {
   "codemirror_mode": {
    "name": "ipython",
    "version": 3
   },
   "file_extension": ".py",
   "mimetype": "text/x-python",
   "name": "python",
   "nbconvert_exporter": "python",
   "pygments_lexer": "ipython3",
   "version": "3.5.2"
  }
 },
 "nbformat": 4,
 "nbformat_minor": 0
}
